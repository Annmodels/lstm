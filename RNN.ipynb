{
  "nbformat": 4,
  "nbformat_minor": 0,
  "metadata": {
    "colab": {
      "name": "RNN.ipynb",
      "provenance": [],
      "collapsed_sections": [],
      "authorship_tag": "ABX9TyMVvVFxPopaCQdyTabbbk8j",
      "include_colab_link": true
    },
    "kernelspec": {
      "name": "python3",
      "display_name": "Python 3"
    },
    "accelerator": "GPU"
  },
  "cells": [
    {
      "cell_type": "markdown",
      "metadata": {
        "id": "view-in-github",
        "colab_type": "text"
      },
      "source": [
        "<a href=\"https://colab.research.google.com/github/Annmodels/lstm/blob/master/RNN.ipynb\" target=\"_parent\"><img src=\"https://colab.research.google.com/assets/colab-badge.svg\" alt=\"Open In Colab\"/></a>"
      ]
    },
    {
      "cell_type": "code",
      "metadata": {
        "id": "WMDwF_5zKbtH",
        "colab_type": "code",
        "outputId": "2726cd57-2a78-437a-ef66-8e7c2d47d080",
        "colab": {
          "base_uri": "https://localhost:8080/",
          "height": 105
        }
      },
      "source": [
        "!git clone https://github.com/pdway53/Predict_Google_Stock_Price_RNN"
      ],
      "execution_count": 0,
      "outputs": [
        {
          "output_type": "stream",
          "text": [
            "Cloning into 'Predict_Google_Stock_Price_RNN'...\n",
            "remote: Enumerating objects: 46, done.\u001b[K\n",
            "Unpacking objects:   2% (1/46)   \rUnpacking objects:   4% (2/46)   \rUnpacking objects:   6% (3/46)   \rUnpacking objects:   8% (4/46)   \rUnpacking objects:  10% (5/46)   \rUnpacking objects:  13% (6/46)   \rUnpacking objects:  15% (7/46)   \rUnpacking objects:  17% (8/46)   \rUnpacking objects:  19% (9/46)   \rUnpacking objects:  21% (10/46)   \rUnpacking objects:  23% (11/46)   \rUnpacking objects:  26% (12/46)   \rUnpacking objects:  28% (13/46)   \rUnpacking objects:  30% (14/46)   \rUnpacking objects:  32% (15/46)   \rUnpacking objects:  34% (16/46)   \rUnpacking objects:  36% (17/46)   \rUnpacking objects:  39% (18/46)   \rUnpacking objects:  41% (19/46)   \rUnpacking objects:  43% (20/46)   \rremote: Total 46 (delta 0), reused 0 (delta 0), pack-reused 46\u001b[K\n",
            "Unpacking objects:  45% (21/46)   \rUnpacking objects:  47% (22/46)   \rUnpacking objects:  50% (23/46)   \rUnpacking objects:  52% (24/46)   \rUnpacking objects:  54% (25/46)   \rUnpacking objects:  56% (26/46)   \rUnpacking objects:  58% (27/46)   \rUnpacking objects:  60% (28/46)   \rUnpacking objects:  63% (29/46)   \rUnpacking objects:  65% (30/46)   \rUnpacking objects:  67% (31/46)   \rUnpacking objects:  69% (32/46)   \rUnpacking objects:  71% (33/46)   \rUnpacking objects:  73% (34/46)   \rUnpacking objects:  76% (35/46)   \rUnpacking objects:  78% (36/46)   \rUnpacking objects:  80% (37/46)   \rUnpacking objects:  82% (38/46)   \rUnpacking objects:  84% (39/46)   \rUnpacking objects:  86% (40/46)   \rUnpacking objects:  89% (41/46)   \rUnpacking objects:  91% (42/46)   \rUnpacking objects:  93% (43/46)   \rUnpacking objects:  95% (44/46)   \rUnpacking objects:  97% (45/46)   \rUnpacking objects: 100% (46/46)   \rUnpacking objects: 100% (46/46), done.\n"
          ],
          "name": "stdout"
        }
      ]
    },
    {
      "cell_type": "code",
      "metadata": {
        "id": "-oaWaOp7_46Q",
        "colab_type": "code",
        "outputId": "b0575496-24b9-474f-ae80-4a30639b5e02",
        "colab": {
          "base_uri": "https://localhost:8080/",
          "height": 165
        }
      },
      "source": [
        "import numpy as np \n",
        "import matplotlib.pyplot as plt \n",
        "import pandas as pd \n",
        "from sklearn.preprocessing import MinMaxScaler \n",
        "from keras.models import Sequential \n",
        "from keras.layers import Dense \n",
        "from keras.layers import LSTM \n",
        "import math \n",
        "from sklearn.metrics import mean_squared_error \n",
        "from sklearn.metrics import mean_squared_error \n",
        "from sklearn.model_selection import GridSearchCV \n",
        "from keras.wrappers.scikit_learn import KerasClassifier"
      ],
      "execution_count": 0,
      "outputs": [
        {
          "output_type": "stream",
          "text": [
            "Using TensorFlow backend.\n"
          ],
          "name": "stderr"
        },
        {
          "output_type": "display_data",
          "data": {
            "text/html": [
              "<p style=\"color: red;\">\n",
              "The default version of TensorFlow in Colab will soon switch to TensorFlow 2.x.<br>\n",
              "We recommend you <a href=\"https://www.tensorflow.org/guide/migrate\" target=\"_blank\">upgrade</a> now \n",
              "or ensure your notebook will continue to use TensorFlow 1.x via the <code>%tensorflow_version 1.x</code> magic:\n",
              "<a href=\"https://colab.research.google.com/notebooks/tensorflow_version.ipynb\" target=\"_blank\">more info</a>.</p>\n"
            ],
            "text/plain": [
              "<IPython.core.display.HTML object>"
            ]
          },
          "metadata": {
            "tags": []
          }
        }
      ]
    },
    {
      "cell_type": "code",
      "metadata": {
        "id": "RG8dE4BEA_2w",
        "colab_type": "code",
        "outputId": "85147397-62a9-4812-bb9b-9bdd8ea2981e",
        "colab": {
          "base_uri": "https://localhost:8080/",
          "height": 51
        }
      },
      "source": [
        "# Getting the real stock price for Feb 1st 2012 - Dec 31st 2016 \n",
        "df_train = pd.read_csv('/content/Predict_Google_Stock_Price_RNN/Google_Stock_Price_Train.csv') \n",
        "# Getting the real stock price from Jan 1st 2017 - Feb 1st 2017 \n",
        "test = pd.read_csv('/content/Predict_Google_Stock_Price_RNN/Google_Stock_Price_Test.csv') \n",
        "df_train = df_train.iloc[:,1:2].values \n",
        "price_test = test.iloc[:,1:2].values \n",
        "print('training data size : {}'.format(df_train.shape)) \n",
        "print('testing data size : {}'.format(price_test.shape))"
      ],
      "execution_count": 0,
      "outputs": [
        {
          "output_type": "stream",
          "text": [
            "training data size : (1258, 1)\n",
            "testing data size : (21, 1)\n"
          ],
          "name": "stdout"
        }
      ]
    },
    {
      "cell_type": "code",
      "metadata": {
        "id": "-q46zjIaBosG",
        "colab_type": "code",
        "colab": {}
      },
      "source": [
        "def build_classifier(optimizer):     \n",
        "  reg_rnn = Sequential()     \n",
        "  reg_rnn.add(LSTM(units = 4, init = 'normal',return_sequences = True, input_shape = (None, 1)))     \n",
        "  reg_rnn.add(LSTM(units = 4, init = 'normal',return_sequences = True))     \n",
        "  reg_rnn.add(LSTM(units = 4, init = 'normal'))     \n",
        "  reg_rnn.add(Dense(units = 1,init = 'normal'))     \n",
        "  reg_rnn.compile(optimizer = optimizer, loss = 'mean_squared_error')     \n",
        "  return reg_rnn      \n",
        "  #reg_rnn.fit(x_train, y_train, batch_size = 32, epochs = 200)           \n",
        "model = KerasClassifier(build_fn = build_classifier) \n",
        "parameters = { 'batch_size': [5,20],'nb_epoch': [100,101],'optimizer': ['adam', 'rmsprop'], }  \n",
        "  #tuning for the best parameter \n",
        "grid_search = GridSearchCV(estimator = model,param_grid = parameters,scoring = 'neg_mean_absolute_error', cv = 10)  \n",
        "grids = grid_search.fit(x_train, y_train) \n",
        "best_parameters = grids.best_params_ \n",
        "best_accuracy = grid_search.best_score_  \n",
        "  #summarize results \n",
        "  #print(best_accuracy)\n",
        "print(\"Best: %f using %s\" % (best_accuracy, best_parameters))"
      ],
      "execution_count": 0,
      "outputs": []
    },
    {
      "cell_type": "code",
      "metadata": {
        "id": "q1yoMM_UHEB4",
        "colab_type": "code",
        "outputId": "7f57d959-9bc7-457f-8b05-17e03dbe69d5",
        "colab": {
          "base_uri": "https://localhost:8080/",
          "height": 1000
        }
      },
      "source": [
        "# Scaling \n",
        "sc = MinMaxScaler(feature_range = (0, 1)) \n",
        "train_scaled = sc.fit_transform(df_train)  \n",
        " # Creating a data structure with 20 timesteps and t+1 output \n",
        "x_train = [] \n",
        "y_train = []  \n",
        "for i in range(20, 1258):     \n",
        "  x_train.append(train_scaled[i-20:i, 0])     \n",
        "  y_train.append(train_scaled[i, 0])      \n",
        "  \n",
        "x_train, y_train = np.array(x_train), np.array(y_train)  \n",
        "   # Reshaping \n",
        "x_train = np.reshape(x_train, (x_train.shape[0], x_train.shape[1], 1))  \n",
        "   # 3-layer RNN \n",
        "reg_rnn = Sequential() \n",
        "reg_rnn.add(LSTM(units = 4, return_sequences = True, input_shape = (None, 1))) \n",
        "reg_rnn.add(LSTM(units = 4, return_sequences = True)) \n",
        "reg_rnn.add(LSTM(units = 4 )) \n",
        "reg_rnn.add(Dense(units = 1)) \n",
        "reg_rnn.compile(optimizer = 'adam', loss = 'mean_squared_error') \n",
        "reg_rnn.fit(x_train, y_train, batch_size = 5, epochs = 20)   \n",
        "   # predict the stock price \n",
        "real_stock_price = np.concatenate((df_train[0:1258] ,price_test),axis = 0) \n",
        "scaled_real_stock_price = sc.fit_transform(real_stock_price) \n",
        "input_x = [] \n",
        "for i in range(1258,1279):     \n",
        "  input_x.append(scaled_real_stock_price[i-20:i, 0])       \n",
        "    \n",
        "input_x = np.array(input_x) \n",
        "input_x = np.reshape(input_x, (input_x.shape[0], input_x.shape[1], 1) )  \n",
        "predicted_price = reg_rnn.predict(input_x) \n",
        "predicted_price = sc.inverse_transform(predicted_price)   \n",
        "rmse = math.sqrt(mean_squared_error(real_stock_price[1258:], predicted_price))"
      ],
      "execution_count": 0,
      "outputs": [
        {
          "output_type": "stream",
          "text": [
            "WARNING:tensorflow:From /usr/local/lib/python3.6/dist-packages/keras/backend/tensorflow_backend.py:66: The name tf.get_default_graph is deprecated. Please use tf.compat.v1.get_default_graph instead.\n",
            "\n",
            "WARNING:tensorflow:From /usr/local/lib/python3.6/dist-packages/keras/backend/tensorflow_backend.py:541: The name tf.placeholder is deprecated. Please use tf.compat.v1.placeholder instead.\n",
            "\n",
            "WARNING:tensorflow:From /usr/local/lib/python3.6/dist-packages/keras/backend/tensorflow_backend.py:4432: The name tf.random_uniform is deprecated. Please use tf.random.uniform instead.\n",
            "\n",
            "WARNING:tensorflow:From /usr/local/lib/python3.6/dist-packages/keras/optimizers.py:793: The name tf.train.Optimizer is deprecated. Please use tf.compat.v1.train.Optimizer instead.\n",
            "\n",
            "WARNING:tensorflow:From /tensorflow-1.15.0/python3.6/tensorflow_core/python/ops/math_grad.py:1424: where (from tensorflow.python.ops.array_ops) is deprecated and will be removed in a future version.\n",
            "Instructions for updating:\n",
            "Use tf.where in 2.0, which has the same broadcast rule as np.where\n",
            "WARNING:tensorflow:From /usr/local/lib/python3.6/dist-packages/keras/backend/tensorflow_backend.py:1033: The name tf.assign_add is deprecated. Please use tf.compat.v1.assign_add instead.\n",
            "\n",
            "WARNING:tensorflow:From /usr/local/lib/python3.6/dist-packages/keras/backend/tensorflow_backend.py:1020: The name tf.assign is deprecated. Please use tf.compat.v1.assign instead.\n",
            "\n",
            "WARNING:tensorflow:From /usr/local/lib/python3.6/dist-packages/keras/backend/tensorflow_backend.py:3005: The name tf.Session is deprecated. Please use tf.compat.v1.Session instead.\n",
            "\n",
            "Epoch 1/20\n",
            "WARNING:tensorflow:From /usr/local/lib/python3.6/dist-packages/keras/backend/tensorflow_backend.py:190: The name tf.get_default_session is deprecated. Please use tf.compat.v1.get_default_session instead.\n",
            "\n",
            "WARNING:tensorflow:From /usr/local/lib/python3.6/dist-packages/keras/backend/tensorflow_backend.py:197: The name tf.ConfigProto is deprecated. Please use tf.compat.v1.ConfigProto instead.\n",
            "\n",
            "WARNING:tensorflow:From /usr/local/lib/python3.6/dist-packages/keras/backend/tensorflow_backend.py:207: The name tf.global_variables is deprecated. Please use tf.compat.v1.global_variables instead.\n",
            "\n",
            "WARNING:tensorflow:From /usr/local/lib/python3.6/dist-packages/keras/backend/tensorflow_backend.py:216: The name tf.is_variable_initialized is deprecated. Please use tf.compat.v1.is_variable_initialized instead.\n",
            "\n",
            "WARNING:tensorflow:From /usr/local/lib/python3.6/dist-packages/keras/backend/tensorflow_backend.py:223: The name tf.variables_initializer is deprecated. Please use tf.compat.v1.variables_initializer instead.\n",
            "\n",
            "1238/1238 [==============================] - 30s 24ms/step - loss: 0.0425\n",
            "Epoch 2/20\n",
            "1238/1238 [==============================] - 20s 16ms/step - loss: 0.0021\n",
            "Epoch 3/20\n",
            "1238/1238 [==============================] - 20s 16ms/step - loss: 0.0018\n",
            "Epoch 4/20\n",
            "1238/1238 [==============================] - 19s 16ms/step - loss: 0.0018\n",
            "Epoch 5/20\n",
            "1238/1238 [==============================] - 20s 16ms/step - loss: 0.0018\n",
            "Epoch 6/20\n",
            "1238/1238 [==============================] - 20s 16ms/step - loss: 0.0016\n",
            "Epoch 7/20\n",
            "1238/1238 [==============================] - 19s 15ms/step - loss: 0.0015\n",
            "Epoch 8/20\n",
            "1238/1238 [==============================] - 19s 15ms/step - loss: 0.0014\n",
            "Epoch 9/20\n",
            "1238/1238 [==============================] - 19s 16ms/step - loss: 0.0015\n",
            "Epoch 10/20\n",
            "1238/1238 [==============================] - 19s 15ms/step - loss: 0.0014\n",
            "Epoch 11/20\n",
            "1238/1238 [==============================] - 19s 15ms/step - loss: 0.0013\n",
            "Epoch 12/20\n",
            "1238/1238 [==============================] - 20s 16ms/step - loss: 0.0013\n",
            "Epoch 13/20\n",
            "1238/1238 [==============================] - 20s 16ms/step - loss: 0.0012\n",
            "Epoch 14/20\n",
            "1238/1238 [==============================] - 20s 16ms/step - loss: 0.0013\n",
            "Epoch 15/20\n",
            "1238/1238 [==============================] - 20s 16ms/step - loss: 0.0013\n",
            "Epoch 16/20\n",
            "1238/1238 [==============================] - 20s 16ms/step - loss: 0.0011\n",
            "Epoch 17/20\n",
            "1238/1238 [==============================] - 19s 16ms/step - loss: 0.0011\n",
            "Epoch 18/20\n",
            "1238/1238 [==============================] - 20s 16ms/step - loss: 0.0012\n",
            "Epoch 19/20\n",
            "1238/1238 [==============================] - 19s 16ms/step - loss: 0.0011\n",
            "Epoch 20/20\n",
            "1238/1238 [==============================] - 19s 16ms/step - loss: 0.0011\n"
          ],
          "name": "stdout"
        }
      ]
    },
    {
      "cell_type": "code",
      "metadata": {
        "id": "CHeKdOmbI_-8",
        "colab_type": "code",
        "outputId": "432b1c72-dc6c-49f2-f797-52c4ff02937e",
        "colab": {
          "base_uri": "https://localhost:8080/",
          "height": 315
        }
      },
      "source": [
        "plt.plot(real_stock_price[1258:], color = 'red', label = 'Real Google Stock Price') \n",
        "plt.plot(predicted_price, color = 'blue', label = 'Predicted Google Stock Price') \n",
        "plt.title('Google Stock Price Prediction') \n",
        "plt.xlabel('Time') \n",
        "plt.ylabel('Google Stock Price') \n",
        "plt.legend() \n",
        "plt.show()"
      ],
      "execution_count": 0,
      "outputs": [
        {
          "output_type": "display_data",
          "data": {
            "image/png": "[encoded data removed]",
            "text/plain": [
              "<Figure size 432x288 with 1 Axes>"
            ]
          },
          "metadata": {
            "tags": []
          }
        }
      ]
    },
    {
      "cell_type": "code",
      "metadata": {
        "id": "ncryDFZKJdhz",
        "colab_type": "code",
        "outputId": "2a1c91c6-cac9-4802-bcaa-3e6e2a1d2f15",
        "colab": {
          "base_uri": "https://localhost:8080/",
          "height": 1000
        }
      },
      "source": [
        "x_train = train_scaled[0:1257] \n",
        "print(x_train.shape) \n",
        "x_train = np.reshape(x_train, (x_train.shape[0],x_train.shape[1],1)) \n",
        "y_train = train_scaled[1:1258]    \n",
        "# Initialising the RNN \n",
        "reg_rnn1 = Sequential() \n",
        "reg_rnn1.add(LSTM(units = 4,  return_sequences = True, activation = 'sigmoid', input_shape = (None, 1))) \n",
        "reg_rnn1.add(LSTM(units = 4, return_sequences = True)) \n",
        "reg_rnn1.add(LSTM(units = 3)) \n",
        "reg_rnn1.add(Dense(units = 1)) \n",
        "reg_rnn1.compile(optimizer = 'adam', loss = 'mean_squared_error') \n",
        "reg_rnn1.fit(x_train, y_train, batch_size = 64, epochs = 100)  \n",
        "# predicted stock price of 2017 \n",
        "inputs = train_scaled[1237:1258] \n",
        "inputs = np.reshape(inputs, (21, 1, 1)) \n",
        "predictions = reg_rnn1.predict(inputs) \n",
        "predicted_stock_price = sc.inverse_transform(predictions)  \n",
        "# Visualising the results \n",
        "plt.plot(price_test, color = 'red', label = 'Real Google Stock Price') \n",
        "plt.plot(predicted_stock_price, color = 'blue', label = 'Predicted Google Stock Price') \n",
        "plt.title('Google Stock Price Prediction') \n",
        "plt.xlabel('Time') \n",
        "plt.ylabel('Google Stock Price') \n",
        "plt.legend() \n",
        "plt.show()"
      ],
      "execution_count": 0,
      "outputs": [
        {
          "output_type": "stream",
          "text": [
            "(1257, 1)\n",
            "Epoch 1/100\n",
            "1257/1257 [==============================] - 2s 2ms/step - loss: 0.2634\n",
            "Epoch 2/100\n",
            "1257/1257 [==============================] - 0s 159us/step - loss: 0.2251\n",
            "Epoch 3/100\n",
            "1257/1257 [==============================] - 0s 143us/step - loss: 0.1882\n",
            "Epoch 4/100\n",
            "1257/1257 [==============================] - 0s 138us/step - loss: 0.1541\n",
            "Epoch 5/100\n",
            "1257/1257 [==============================] - 0s 157us/step - loss: 0.1245\n",
            "Epoch 6/100\n",
            "1257/1257 [==============================] - 0s 151us/step - loss: 0.1017\n",
            "Epoch 7/100\n",
            "1257/1257 [==============================] - 0s 175us/step - loss: 0.0873\n",
            "Epoch 8/100\n",
            "1257/1257 [==============================] - 0s 140us/step - loss: 0.0800\n",
            "Epoch 9/100\n",
            "1257/1257 [==============================] - 0s 135us/step - loss: 0.0774\n",
            "Epoch 10/100\n",
            "1257/1257 [==============================] - 0s 144us/step - loss: 0.0767\n",
            "Epoch 11/100\n",
            "1257/1257 [==============================] - 0s 147us/step - loss: 0.0763\n",
            "Epoch 12/100\n",
            "1257/1257 [==============================] - 0s 165us/step - loss: 0.0760\n",
            "Epoch 13/100\n",
            "1257/1257 [==============================] - 0s 177us/step - loss: 0.0757\n",
            "Epoch 14/100\n",
            "1257/1257 [==============================] - 0s 140us/step - loss: 0.0753\n",
            "Epoch 15/100\n",
            "1257/1257 [==============================] - 0s 145us/step - loss: 0.0750\n",
            "Epoch 16/100\n",
            "1257/1257 [==============================] - 0s 188us/step - loss: 0.0746\n",
            "Epoch 17/100\n",
            "1257/1257 [==============================] - 0s 168us/step - loss: 0.0742\n",
            "Epoch 18/100\n",
            "1257/1257 [==============================] - 0s 147us/step - loss: 0.0737\n",
            "Epoch 19/100\n",
            "1257/1257 [==============================] - 0s 141us/step - loss: 0.0733\n",
            "Epoch 20/100\n",
            "1257/1257 [==============================] - 0s 143us/step - loss: 0.0728\n",
            "Epoch 21/100\n",
            "1257/1257 [==============================] - 0s 177us/step - loss: 0.0722\n",
            "Epoch 22/100\n",
            "1257/1257 [==============================] - 0s 190us/step - loss: 0.0718\n",
            "Epoch 23/100\n",
            "1257/1257 [==============================] - 0s 166us/step - loss: 0.0711\n",
            "Epoch 24/100\n",
            "1257/1257 [==============================] - 0s 140us/step - loss: 0.0705\n",
            "Epoch 25/100\n",
            "1257/1257 [==============================] - 0s 138us/step - loss: 0.0698\n",
            "Epoch 26/100\n",
            "1257/1257 [==============================] - 0s 174us/step - loss: 0.0690\n",
            "Epoch 27/100\n",
            "1257/1257 [==============================] - 0s 179us/step - loss: 0.0682\n",
            "Epoch 28/100\n",
            "1257/1257 [==============================] - 0s 176us/step - loss: 0.0674\n",
            "Epoch 29/100\n",
            "1257/1257 [==============================] - 0s 155us/step - loss: 0.0664\n",
            "Epoch 30/100\n",
            "1257/1257 [==============================] - 0s 164us/step - loss: 0.0653\n",
            "Epoch 31/100\n",
            "1257/1257 [==============================] - 0s 147us/step - loss: 0.0642\n",
            "Epoch 32/100\n",
            "1257/1257 [==============================] - 0s 193us/step - loss: 0.0629\n",
            "Epoch 33/100\n",
            "1257/1257 [==============================] - 0s 160us/step - loss: 0.0616\n",
            "Epoch 34/100\n",
            "1257/1257 [==============================] - 0s 193us/step - loss: 0.0602\n",
            "Epoch 35/100\n",
            "1257/1257 [==============================] - 0s 151us/step - loss: 0.0583\n",
            "Epoch 36/100\n",
            "1257/1257 [==============================] - 0s 156us/step - loss: 0.0564\n",
            "Epoch 37/100\n",
            "1257/1257 [==============================] - 0s 136us/step - loss: 0.0544\n",
            "Epoch 38/100\n",
            "1257/1257 [==============================] - 0s 154us/step - loss: 0.0522\n",
            "Epoch 39/100\n",
            "1257/1257 [==============================] - 0s 146us/step - loss: 0.0497\n",
            "Epoch 40/100\n",
            "1257/1257 [==============================] - 0s 145us/step - loss: 0.0471\n",
            "Epoch 41/100\n",
            "1257/1257 [==============================] - 0s 158us/step - loss: 0.0441\n",
            "Epoch 42/100\n",
            "1257/1257 [==============================] - 0s 198us/step - loss: 0.0410\n",
            "Epoch 43/100\n",
            "1257/1257 [==============================] - 0s 180us/step - loss: 0.0377\n",
            "Epoch 44/100\n",
            "1257/1257 [==============================] - 0s 186us/step - loss: 0.0341\n",
            "Epoch 45/100\n",
            "1257/1257 [==============================] - 0s 144us/step - loss: 0.0304\n",
            "Epoch 46/100\n",
            "1257/1257 [==============================] - 0s 140us/step - loss: 0.0266\n",
            "Epoch 47/100\n",
            "1257/1257 [==============================] - 0s 190us/step - loss: 0.0228\n",
            "Epoch 48/100\n",
            "1257/1257 [==============================] - 0s 204us/step - loss: 0.0191\n",
            "Epoch 49/100\n",
            "1257/1257 [==============================] - 0s 188us/step - loss: 0.0155\n",
            "Epoch 50/100\n",
            "1257/1257 [==============================] - 0s 191us/step - loss: 0.0123\n",
            "Epoch 51/100\n",
            "1257/1257 [==============================] - 0s 189us/step - loss: 0.0095\n",
            "Epoch 52/100\n",
            "1257/1257 [==============================] - 0s 150us/step - loss: 0.0072\n",
            "Epoch 53/100\n",
            "1257/1257 [==============================] - 0s 196us/step - loss: 0.0054\n",
            "Epoch 54/100\n",
            "1257/1257 [==============================] - 0s 192us/step - loss: 0.0040\n",
            "Epoch 55/100\n",
            "1257/1257 [==============================] - 0s 171us/step - loss: 0.0031\n",
            "Epoch 56/100\n",
            "1257/1257 [==============================] - 0s 185us/step - loss: 0.0025\n",
            "Epoch 57/100\n",
            "1257/1257 [==============================] - 0s 196us/step - loss: 0.0022\n",
            "Epoch 58/100\n",
            "1257/1257 [==============================] - 0s 193us/step - loss: 0.0019\n",
            "Epoch 59/100\n",
            "1257/1257 [==============================] - 0s 189us/step - loss: 0.0018\n",
            "Epoch 60/100\n",
            "1257/1257 [==============================] - 0s 178us/step - loss: 0.0018\n",
            "Epoch 61/100\n",
            "1257/1257 [==============================] - 0s 202us/step - loss: 0.0017\n",
            "Epoch 62/100\n",
            "1257/1257 [==============================] - 0s 156us/step - loss: 0.0017\n",
            "Epoch 63/100\n",
            "1257/1257 [==============================] - 0s 148us/step - loss: 0.0017\n",
            "Epoch 64/100\n",
            "1257/1257 [==============================] - 0s 159us/step - loss: 0.0017\n",
            "Epoch 65/100\n",
            "1257/1257 [==============================] - 0s 185us/step - loss: 0.0016\n",
            "Epoch 66/100\n",
            "1257/1257 [==============================] - 0s 187us/step - loss: 0.0016\n",
            "Epoch 67/100\n",
            "1257/1257 [==============================] - 0s 197us/step - loss: 0.0016\n",
            "Epoch 68/100\n",
            "1257/1257 [==============================] - 0s 188us/step - loss: 0.0016\n",
            "Epoch 69/100\n",
            "1257/1257 [==============================] - 0s 159us/step - loss: 0.0016\n",
            "Epoch 70/100\n",
            "1257/1257 [==============================] - 0s 195us/step - loss: 0.0016\n",
            "Epoch 71/100\n",
            "1257/1257 [==============================] - 0s 166us/step - loss: 0.0015\n",
            "Epoch 72/100\n",
            "1257/1257 [==============================] - 0s 137us/step - loss: 0.0015\n",
            "Epoch 73/100\n",
            "1257/1257 [==============================] - 0s 154us/step - loss: 0.0015\n",
            "Epoch 74/100\n",
            "1257/1257 [==============================] - 0s 162us/step - loss: 0.0015\n",
            "Epoch 75/100\n",
            "1257/1257 [==============================] - 0s 187us/step - loss: 0.0015\n",
            "Epoch 76/100\n",
            "1257/1257 [==============================] - 0s 175us/step - loss: 0.0015\n",
            "Epoch 77/100\n",
            "1257/1257 [==============================] - 0s 190us/step - loss: 0.0014\n",
            "Epoch 78/100\n",
            "1257/1257 [==============================] - 0s 181us/step - loss: 0.0014\n",
            "Epoch 79/100\n",
            "1257/1257 [==============================] - 0s 140us/step - loss: 0.0014\n",
            "Epoch 80/100\n",
            "1257/1257 [==============================] - 0s 158us/step - loss: 0.0014\n",
            "Epoch 81/100\n",
            "1257/1257 [==============================] - 0s 168us/step - loss: 0.0014\n",
            "Epoch 82/100\n",
            "1257/1257 [==============================] - 0s 199us/step - loss: 0.0014\n",
            "Epoch 83/100\n",
            "1257/1257 [==============================] - 0s 168us/step - loss: 0.0013\n",
            "Epoch 84/100\n",
            "1257/1257 [==============================] - 0s 222us/step - loss: 0.0013\n",
            "Epoch 85/100\n",
            "1257/1257 [==============================] - 0s 157us/step - loss: 0.0013\n",
            "Epoch 86/100\n",
            "1257/1257 [==============================] - 0s 189us/step - loss: 0.0013\n",
            "Epoch 87/100\n",
            "1257/1257 [==============================] - 0s 145us/step - loss: 0.0013\n",
            "Epoch 88/100\n",
            "1257/1257 [==============================] - 0s 141us/step - loss: 0.0013\n",
            "Epoch 89/100\n",
            "1257/1257 [==============================] - 0s 155us/step - loss: 0.0013\n",
            "Epoch 90/100\n",
            "1257/1257 [==============================] - 0s 151us/step - loss: 0.0012\n",
            "Epoch 91/100\n",
            "1257/1257 [==============================] - 0s 143us/step - loss: 0.0012\n",
            "Epoch 92/100\n",
            "1257/1257 [==============================] - 0s 144us/step - loss: 0.0012\n",
            "Epoch 93/100\n",
            "1257/1257 [==============================] - 0s 177us/step - loss: 0.0012\n",
            "Epoch 94/100\n",
            "1257/1257 [==============================] - 0s 191us/step - loss: 0.0012\n",
            "Epoch 95/100\n",
            "1257/1257 [==============================] - 0s 179us/step - loss: 0.0012\n",
            "Epoch 96/100\n",
            "1257/1257 [==============================] - 0s 187us/step - loss: 0.0011\n",
            "Epoch 97/100\n",
            "1257/1257 [==============================] - 0s 166us/step - loss: 0.0011\n",
            "Epoch 98/100\n",
            "1257/1257 [==============================] - 0s 138us/step - loss: 0.0011\n",
            "Epoch 99/100\n",
            "1257/1257 [==============================] - 0s 142us/step - loss: 0.0011\n",
            "Epoch 100/100\n",
            "1257/1257 [==============================] - 0s 186us/step - loss: 0.0011\n"
          ],
          "name": "stdout"
        },
        {
          "output_type": "display_data",
          "data": {
            "image/png": "[encoded data removed]",
            "text/plain": [
              "<Figure size 432x288 with 1 Axes>"
            ]
          },
          "metadata": {
            "tags": []
          }
        }
      ]
    }
  ]
}