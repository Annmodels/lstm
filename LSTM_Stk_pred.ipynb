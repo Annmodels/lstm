{
  "nbformat": 4,
  "nbformat_minor": 0,
  "metadata": {
    "colab": {
      "name": "LSTM_Stk_pred.ipynb",
      "provenance": [],
      "collapsed_sections": [],
      "authorship_tag": "ABX9TyM/YaBIGmzzN/4FH7svfe2S",
      "include_colab_link": true
    },
    "kernelspec": {
      "name": "python3",
      "display_name": "Python 3"
    },
    "accelerator": "GPU"
  },
  "cells": [
    {
      "cell_type": "markdown",
      "metadata": {
        "id": "view-in-github",
        "colab_type": "text"
      },
      "source": [
        "<a href=\"https://colab.research.google.com/github/Annmodels/lstm/blob/master/LSTM_Stk_pred.ipynb\" target=\"_parent\"><img src=\"https://colab.research.google.com/assets/colab-badge.svg\" alt=\"Open In Colab\"/></a>"
      ]
    },
    {
      "cell_type": "code",
      "metadata": {
        "id": "vtgBp7uLCo7e",
        "colab_type": "code",
        "colab": {}
      },
      "source": [
        "%matplotlib inline\n",
        "import numpy as np\n",
        "import matplotlib.pyplot as plt\n",
        "import pandas as pd\n",
        "from sklearn.preprocessing import MinMaxScaler\n",
        "from keras.models import Sequential\n",
        "from keras.layers import Dense\n",
        "from keras.layers import LSTM\n",
        "from keras.layers import Dropout"
      ],
      "execution_count": 0,
      "outputs": []
    },
    {
      "cell_type": "code",
      "metadata": {
        "id": "x-Cnefh7EV2V",
        "colab_type": "code",
        "colab": {}
      },
      "source": [
        "from google.colab import files\n",
        "train = files.upload()\n",
        "test = files.upload()"
      ],
      "execution_count": 0,
      "outputs": []
    },
    {
      "cell_type": "code",
      "metadata": {
        "id": "aqJCTMgbEtMM",
        "colab_type": "code",
        "outputId": "348b401d-cb36-420e-ad8b-2be75dfee6ee",
        "colab": {
          "base_uri": "https://localhost:8080/",
          "height": 34
        }
      },
      "source": [
        "dataset_train = pd.read_csv('/content/Google_Stock_Price_Train.csv')\n",
        "train_set = dataset_train.iloc[:,1:2].values\n",
        "sc = MinMaxScaler(feature_range = (0,1))\n",
        "scaled_train = sc.fit_transform(train_set)\n",
        "scaled_train.shape"
      ],
      "execution_count": 0,
      "outputs": [
        {
          "output_type": "execute_result",
          "data": {
            "text/plain": [
              "(1258, 1)"
            ]
          },
          "metadata": {
            "tags": []
          },
          "execution_count": 5
        }
      ]
    },
    {
      "cell_type": "code",
      "metadata": {
        "id": "nlacQPoKGdXW",
        "colab_type": "code",
        "outputId": "ea20ab85-1748-46fd-d947-e6dabe7154dc",
        "colab": {
          "base_uri": "https://localhost:8080/",
          "height": 34
        }
      },
      "source": [
        "xtrain = []\n",
        "ytrain = []\n",
        "timesteps = 60\n",
        "for i in range(timesteps,scaled_train.shape[0]):\n",
        "  xtrain.append(scaled_train[i-timesteps:i,0])\n",
        "  ytrain.append(scaled_train[i,0])\n",
        "\n",
        "xtrain , ytrain = np.array(xtrain) , np.array(ytrain)\n",
        "xtrain = np.reshape(xtrain, (xtrain.shape[0] , xtrain.shape[1] , 1))\n",
        "xtrain.shape\n",
        "#ytrain.shape"
      ],
      "execution_count": 0,
      "outputs": [
        {
          "output_type": "execute_result",
          "data": {
            "text/plain": [
              "(1198, 60, 1)"
            ]
          },
          "metadata": {
            "tags": []
          },
          "execution_count": 6
        }
      ]
    },
    {
      "cell_type": "code",
      "metadata": {
        "id": "aoz1M4wSJP4n",
        "colab_type": "code",
        "outputId": "0a993b03-d027-49fa-b100-c113b6ba2a4a",
        "colab": {
          "base_uri": "https://localhost:8080/",
          "height": 1000
        }
      },
      "source": [
        "regressor = Sequential()\n",
        "\n",
        "regressor.add( LSTM( units = 50 , return_sequences = True , input_shape = (xtrain.shape[1], 1 )))\n",
        "regressor.add(Dropout( 0.2 ))\n",
        "\n",
        "regressor.add( LSTM ( units = 50 , return_sequences = True ))\n",
        "regressor.add(Dropout( 0.2 ))\n",
        "\n",
        "regressor.add( LSTM ( units = 50 , return_sequences = True ))\n",
        "regressor.add(Dropout( 0.2 ))\n",
        "\n",
        "regressor.add( LSTM ( units = 50 ))\n",
        "regressor.add( Dropout( 0.2 ))\n",
        "\n",
        "regressor.add( Dense( units = 1 ))\n",
        "\n",
        "regressor.compile( optimizer = 'adam' , loss = 'mean_squared_error' )\n",
        "\n",
        "regressor.fit( xtrain , ytrain , epochs = 100 , batch_size = 120 )"
      ],
      "execution_count": 0,
      "outputs": [
        {
          "output_type": "stream",
          "text": [
            "Epoch 1/100\n",
            "1198/1198 [==============================] - 7s 6ms/step - loss: 0.1421\n",
            "Epoch 2/100\n",
            "1198/1198 [==============================] - 4s 4ms/step - loss: 0.0260\n",
            "Epoch 3/100\n",
            "1198/1198 [==============================] - 4s 4ms/step - loss: 0.0141\n",
            "Epoch 4/100\n",
            "1198/1198 [==============================] - 4s 4ms/step - loss: 0.0090\n",
            "Epoch 5/100\n",
            "1198/1198 [==============================] - 4s 4ms/step - loss: 0.0066\n",
            "Epoch 6/100\n",
            "1198/1198 [==============================] - 4s 4ms/step - loss: 0.0057\n",
            "Epoch 7/100\n",
            "1198/1198 [==============================] - 4s 4ms/step - loss: 0.0056\n",
            "Epoch 8/100\n",
            "1198/1198 [==============================] - 4s 4ms/step - loss: 0.0052\n",
            "Epoch 9/100\n",
            "1198/1198 [==============================] - 4s 4ms/step - loss: 0.0049\n",
            "Epoch 10/100\n",
            "1198/1198 [==============================] - 4s 4ms/step - loss: 0.0050\n",
            "Epoch 11/100\n",
            "1198/1198 [==============================] - 4s 4ms/step - loss: 0.0044\n",
            "Epoch 12/100\n",
            "1198/1198 [==============================] - 4s 4ms/step - loss: 0.0046\n",
            "Epoch 13/100\n",
            "1198/1198 [==============================] - 4s 4ms/step - loss: 0.0048\n",
            "Epoch 14/100\n",
            "1198/1198 [==============================] - 4s 4ms/step - loss: 0.0046\n",
            "Epoch 15/100\n",
            "1198/1198 [==============================] - 4s 4ms/step - loss: 0.0045\n",
            "Epoch 16/100\n",
            "1198/1198 [==============================] - 4s 4ms/step - loss: 0.0041\n",
            "Epoch 17/100\n",
            "1198/1198 [==============================] - 4s 4ms/step - loss: 0.0046\n",
            "Epoch 18/100\n",
            "1198/1198 [==============================] - 4s 4ms/step - loss: 0.0041\n",
            "Epoch 19/100\n",
            "1198/1198 [==============================] - 4s 4ms/step - loss: 0.0043\n",
            "Epoch 20/100\n",
            "1198/1198 [==============================] - 4s 4ms/step - loss: 0.0043\n",
            "Epoch 21/100\n",
            "1198/1198 [==============================] - 4s 4ms/step - loss: 0.0044\n",
            "Epoch 22/100\n",
            "1198/1198 [==============================] - 4s 4ms/step - loss: 0.0043\n",
            "Epoch 23/100\n",
            "1198/1198 [==============================] - 4s 4ms/step - loss: 0.0045\n",
            "Epoch 24/100\n",
            "1198/1198 [==============================] - 4s 4ms/step - loss: 0.0045\n",
            "Epoch 25/100\n",
            "1198/1198 [==============================] - 4s 4ms/step - loss: 0.0044\n",
            "Epoch 26/100\n",
            "1198/1198 [==============================] - 4s 4ms/step - loss: 0.0042\n",
            "Epoch 27/100\n",
            "1198/1198 [==============================] - 4s 4ms/step - loss: 0.0042\n",
            "Epoch 28/100\n",
            "1198/1198 [==============================] - 4s 4ms/step - loss: 0.0041\n",
            "Epoch 29/100\n",
            "1198/1198 [==============================] - 4s 4ms/step - loss: 0.0039\n",
            "Epoch 30/100\n",
            "1198/1198 [==============================] - 4s 4ms/step - loss: 0.0040\n",
            "Epoch 31/100\n",
            "1198/1198 [==============================] - 4s 4ms/step - loss: 0.0034\n",
            "Epoch 32/100\n",
            "1198/1198 [==============================] - 4s 4ms/step - loss: 0.0037\n",
            "Epoch 33/100\n",
            "1198/1198 [==============================] - 4s 4ms/step - loss: 0.0037\n",
            "Epoch 34/100\n",
            "1198/1198 [==============================] - 4s 4ms/step - loss: 0.0039\n",
            "Epoch 35/100\n",
            "1198/1198 [==============================] - 4s 4ms/step - loss: 0.0039\n",
            "Epoch 36/100\n",
            "1198/1198 [==============================] - 4s 4ms/step - loss: 0.0040\n",
            "Epoch 37/100\n",
            "1198/1198 [==============================] - 4s 4ms/step - loss: 0.0037\n",
            "Epoch 38/100\n",
            "1198/1198 [==============================] - 4s 4ms/step - loss: 0.0043\n",
            "Epoch 39/100\n",
            "1198/1198 [==============================] - 4s 4ms/step - loss: 0.0041\n",
            "Epoch 40/100\n",
            "1198/1198 [==============================] - 4s 4ms/step - loss: 0.0038\n",
            "Epoch 41/100\n",
            "1198/1198 [==============================] - 4s 4ms/step - loss: 0.0037\n",
            "Epoch 42/100\n",
            "1198/1198 [==============================] - 4s 4ms/step - loss: 0.0037\n",
            "Epoch 43/100\n",
            "1198/1198 [==============================] - 4s 4ms/step - loss: 0.0038\n",
            "Epoch 44/100\n",
            "1198/1198 [==============================] - 4s 4ms/step - loss: 0.0038\n",
            "Epoch 45/100\n",
            "1198/1198 [==============================] - 4s 4ms/step - loss: 0.0041\n",
            "Epoch 46/100\n",
            "1198/1198 [==============================] - 4s 4ms/step - loss: 0.0038\n",
            "Epoch 47/100\n",
            "1198/1198 [==============================] - 4s 4ms/step - loss: 0.0034\n",
            "Epoch 48/100\n",
            "1198/1198 [==============================] - 4s 4ms/step - loss: 0.0040\n",
            "Epoch 49/100\n",
            "1198/1198 [==============================] - 4s 4ms/step - loss: 0.0040\n",
            "Epoch 50/100\n",
            "1198/1198 [==============================] - 4s 4ms/step - loss: 0.0036\n",
            "Epoch 51/100\n",
            "1198/1198 [==============================] - 4s 4ms/step - loss: 0.0034\n",
            "Epoch 52/100\n",
            "1198/1198 [==============================] - 4s 4ms/step - loss: 0.0034\n",
            "Epoch 53/100\n",
            "1198/1198 [==============================] - 4s 4ms/step - loss: 0.0036\n",
            "Epoch 54/100\n",
            "1198/1198 [==============================] - 4s 4ms/step - loss: 0.0037\n",
            "Epoch 55/100\n",
            "1198/1198 [==============================] - 4s 4ms/step - loss: 0.0034\n",
            "Epoch 56/100\n",
            "1198/1198 [==============================] - 4s 4ms/step - loss: 0.0036\n",
            "Epoch 57/100\n",
            "1198/1198 [==============================] - 4s 4ms/step - loss: 0.0035\n",
            "Epoch 58/100\n",
            "1198/1198 [==============================] - 4s 4ms/step - loss: 0.0034\n",
            "Epoch 59/100\n",
            "1198/1198 [==============================] - 4s 4ms/step - loss: 0.0032\n",
            "Epoch 60/100\n",
            "1198/1198 [==============================] - 4s 4ms/step - loss: 0.0032\n",
            "Epoch 61/100\n",
            "1198/1198 [==============================] - 4s 4ms/step - loss: 0.0034\n",
            "Epoch 62/100\n",
            "1198/1198 [==============================] - 4s 4ms/step - loss: 0.0033\n",
            "Epoch 63/100\n",
            "1198/1198 [==============================] - 4s 4ms/step - loss: 0.0035\n",
            "Epoch 64/100\n",
            "1198/1198 [==============================] - 4s 4ms/step - loss: 0.0036\n",
            "Epoch 65/100\n",
            "1198/1198 [==============================] - 4s 4ms/step - loss: 0.0031\n",
            "Epoch 66/100\n",
            "1198/1198 [==============================] - 4s 4ms/step - loss: 0.0032\n",
            "Epoch 67/100\n",
            "1198/1198 [==============================] - 4s 4ms/step - loss: 0.0031\n",
            "Epoch 68/100\n",
            "1198/1198 [==============================] - 4s 4ms/step - loss: 0.0033\n",
            "Epoch 69/100\n",
            "1198/1198 [==============================] - 4s 4ms/step - loss: 0.0033\n",
            "Epoch 70/100\n",
            "1198/1198 [==============================] - 4s 4ms/step - loss: 0.0033\n",
            "Epoch 71/100\n",
            "1198/1198 [==============================] - 4s 4ms/step - loss: 0.0035\n",
            "Epoch 72/100\n",
            "1198/1198 [==============================] - 4s 4ms/step - loss: 0.0031\n",
            "Epoch 73/100\n",
            "1198/1198 [==============================] - 4s 4ms/step - loss: 0.0032\n",
            "Epoch 74/100\n",
            "1198/1198 [==============================] - 4s 4ms/step - loss: 0.0032\n",
            "Epoch 75/100\n",
            "1198/1198 [==============================] - 4s 4ms/step - loss: 0.0030\n",
            "Epoch 76/100\n",
            "1198/1198 [==============================] - 4s 4ms/step - loss: 0.0030\n",
            "Epoch 77/100\n",
            "1198/1198 [==============================] - 4s 4ms/step - loss: 0.0029\n",
            "Epoch 78/100\n",
            "1198/1198 [==============================] - 4s 4ms/step - loss: 0.0029\n",
            "Epoch 79/100\n",
            "1198/1198 [==============================] - 4s 4ms/step - loss: 0.0034\n",
            "Epoch 80/100\n",
            "1198/1198 [==============================] - 4s 4ms/step - loss: 0.0034\n",
            "Epoch 81/100\n",
            "1198/1198 [==============================] - 4s 4ms/step - loss: 0.0032\n",
            "Epoch 82/100\n",
            "1198/1198 [==============================] - 4s 4ms/step - loss: 0.0030\n",
            "Epoch 83/100\n",
            "1198/1198 [==============================] - 4s 4ms/step - loss: 0.0028\n",
            "Epoch 84/100\n",
            "1198/1198 [==============================] - 4s 4ms/step - loss: 0.0028\n",
            "Epoch 85/100\n",
            "1198/1198 [==============================] - 4s 4ms/step - loss: 0.0030\n",
            "Epoch 86/100\n",
            "1198/1198 [==============================] - 4s 4ms/step - loss: 0.0028\n",
            "Epoch 87/100\n",
            "1198/1198 [==============================] - 4s 4ms/step - loss: 0.0028\n",
            "Epoch 88/100\n",
            "1198/1198 [==============================] - 4s 4ms/step - loss: 0.0028\n",
            "Epoch 89/100\n",
            "1198/1198 [==============================] - 4s 4ms/step - loss: 0.0029\n",
            "Epoch 90/100\n",
            "1198/1198 [==============================] - 4s 4ms/step - loss: 0.0029\n",
            "Epoch 91/100\n",
            "1198/1198 [==============================] - 4s 4ms/step - loss: 0.0029\n",
            "Epoch 92/100\n",
            "1198/1198 [==============================] - 4s 4ms/step - loss: 0.0030\n",
            "Epoch 93/100\n",
            "1198/1198 [==============================] - 4s 4ms/step - loss: 0.0030\n",
            "Epoch 94/100\n",
            "1198/1198 [==============================] - 4s 4ms/step - loss: 0.0028\n",
            "Epoch 95/100\n",
            "1198/1198 [==============================] - 4s 4ms/step - loss: 0.0030\n",
            "Epoch 96/100\n",
            "1198/1198 [==============================] - 4s 4ms/step - loss: 0.0033\n",
            "Epoch 97/100\n",
            "1198/1198 [==============================] - 4s 4ms/step - loss: 0.0030\n",
            "Epoch 98/100\n",
            "1198/1198 [==============================] - 4s 4ms/step - loss: 0.0031\n",
            "Epoch 99/100\n",
            "1198/1198 [==============================] - 4s 4ms/step - loss: 0.0029\n",
            "Epoch 100/100\n",
            "1198/1198 [==============================] - 4s 4ms/step - loss: 0.0030\n"
          ],
          "name": "stdout"
        },
        {
          "output_type": "execute_result",
          "data": {
            "text/plain": [
              "<keras.callbacks.History at 0x7ff4e2c98588>"
            ]
          },
          "metadata": {
            "tags": []
          },
          "execution_count": 13
        }
      ]
    },
    {
      "cell_type": "code",
      "metadata": {
        "id": "cNDAv0IeMv-F",
        "colab_type": "code",
        "colab": {}
      },
      "source": [
        "dataset_test = pd.read_csv('/content/Google_Stock_Price_Test.csv')\n",
        "real_stock_price = dataset_test.iloc[:,1:2].values\n",
        "\n",
        "dataset_total = pd.concat(( dataset_train['Open'] , dataset_test['Open']) , axis = 0 )\n",
        "inputs = dataset_total[ len( dataset_total )  - len( dataset_test ) - 60 :].values\n",
        "inputs = inputs.reshape( -1 , 1 )\n",
        "inputs = sc.transform( inputs )\n",
        "xtest = []\n",
        "for i in range( 60 , 80 ):\n",
        "  xtest.append( inputs[ i - 60 : i, 0])\n",
        "\n",
        "xtest = np.array( xtest )\n",
        "xtest = np.reshape( xtest , ( xtest.shape[0] , xtest.shape[1] , 1 ))\n",
        "\n",
        "predicted_stock_price = regressor.predict( xtest )\n",
        "predicted_stock_price = sc.inverse_transform( predicted_stock_price )"
      ],
      "execution_count": 0,
      "outputs": []
    },
    {
      "cell_type": "code",
      "metadata": {
        "id": "jiBr3X4-SgsW",
        "colab_type": "code",
        "outputId": "c8b47e46-2ba9-4983-de2f-a573cfcc0e54",
        "colab": {
          "base_uri": "https://localhost:8080/",
          "height": 315
        }
      },
      "source": [
        "plt.plot( real_stock_price , color = 'red' , label = 'Real Google Stock Price' )\n",
        "plt.plot( predicted_stock_price , color = 'blue' , label = ' Predicted Google Stock Price' )\n",
        "plt.title ('Google Stock Price Prediction' )\n",
        "plt.xlabel('Time')\n",
        "plt.ylabel('Google Stock Price')\n",
        "plt.legend()\n",
        "plt.show()"
      ],
      "execution_count": 0,
      "outputs": [
        {
          "output_type": "display_data",
          "data": {
            "image/png": "[encoded data removed]",
            "text/plain": [
              "<Figure size 432x288 with 1 Axes>"
            ]
          },
          "metadata": {
            "tags": []
          }
        }
      ]
    }
  ]
}